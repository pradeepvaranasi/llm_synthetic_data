{
  "nbformat": 4,
  "nbformat_minor": 0,
  "metadata": {
    "colab": {
      "provenance": [],
      "authorship_tag": "ABX9TyMZKD9etwOUqGlpbE9GA2Ko",
      "include_colab_link": true
    },
    "kernelspec": {
      "name": "python3",
      "display_name": "Python 3"
    },
    "language_info": {
      "name": "python"
    }
  },
  "cells": [
    {
      "cell_type": "markdown",
      "metadata": {
        "id": "view-in-github",
        "colab_type": "text"
      },
      "source": [
        "<a href=\"https://colab.research.google.com/github/pradeepvaranasi/llm_synthetic_data/blob/main/sythetic_data_creation.ipynb\" target=\"_parent\"><img src=\"https://colab.research.google.com/assets/colab-badge.svg\" alt=\"Open In Colab\"/></a>"
      ]
    },
    {
      "cell_type": "code",
      "source": [
        "# !pip install Faker"
      ],
      "metadata": {
        "id": "tSAECeIGpDZ1"
      },
      "execution_count": 3,
      "outputs": []
    },
    {
      "cell_type": "code",
      "execution_count": 4,
      "metadata": {
        "id": "ahOY1GnLooNI"
      },
      "outputs": [],
      "source": [
        "from faker import Faker\n",
        "import random\n",
        "\n",
        "# Initialize Faker generator\n",
        "fake = Faker()"
      ]
    },
    {
      "cell_type": "code",
      "source": [
        "# Define customer types and sentiments\n",
        "customer_types = [\"Enterprise\", \"Business\", \"Individual\"]\n",
        "sentiments = [\"Positive\", \"Neutral\", \"Negative\"]\n"
      ],
      "metadata": {
        "id": "Fjn7RBMVo1uq"
      },
      "execution_count": 5,
      "outputs": []
    },
    {
      "cell_type": "code",
      "source": [
        "# Generate synthetic case activity data\n",
        "def generate_synthetic_data(num_cases):\n",
        "    synthetic_data = []\n",
        "\n",
        "    for _ in range(num_cases):\n",
        "        customer_type = random.choice(customer_types)\n",
        "        customer_name = fake.company() if customer_type == \"Enterprise\" else fake.name()\n",
        "        sentiment = random.choice(sentiments)\n",
        "\n",
        "        case_activity = {\n",
        "            \"CustomerType\": customer_type,\n",
        "            \"CustomerName\": customer_name,\n",
        "            \"Sentiment\": sentiment,\n",
        "            \"CaseDetails\": fake.paragraph(nb_sentences=3)\n",
        "        }\n",
        "\n",
        "        synthetic_data.append(case_activity)\n",
        "\n",
        "    return synthetic_data"
      ],
      "metadata": {
        "id": "oRO7oEZxo4cA"
      },
      "execution_count": 10,
      "outputs": []
    },
    {
      "cell_type": "code",
      "source": [
        "# Generate 10 synthetic cases\n",
        "num_cases = 10\n",
        "synthetic_cases = generate_synthetic_data(num_cases)\n"
      ],
      "metadata": {
        "id": "ses7Zphpo55B"
      },
      "execution_count": 11,
      "outputs": []
    },
    {
      "cell_type": "code",
      "source": [
        "\n",
        "# Display generated synthetic cases\n",
        "for idx, case in enumerate(synthetic_cases, start=1):\n",
        "    print(f\"Case {idx} - {case['CustomerName']} ({case['CustomerType']}): {case['Sentiment']} Sentiment\")\n",
        "    print(case['CaseDetails'])\n",
        "    print(\"=\" * 40)"
      ],
      "metadata": {
        "colab": {
          "base_uri": "https://localhost:8080/"
        },
        "id": "Xw5PAdlWo7AD",
        "outputId": "cd5c2d8f-a0a1-4e93-be9f-6f04403b8c76"
      },
      "execution_count": 12,
      "outputs": [
        {
          "output_type": "stream",
          "name": "stdout",
          "text": [
            "Case 1 - Thomas-Edwards (Enterprise): Neutral Sentiment\n",
            "Base think true. Traditional resource start parent.\n",
            "========================================\n",
            "Case 2 - Benjamin Anderson (Individual): Positive Sentiment\n",
            "People majority leg seek. Radio let keep number product.\n",
            "========================================\n",
            "Case 3 - Berry-Harris (Enterprise): Positive Sentiment\n",
            "Page million think bit glass. Answer system realize purpose hand build help. Some kind attorney hotel dinner reach hard.\n",
            "========================================\n",
            "Case 4 - Amanda Lucero (Business): Negative Sentiment\n",
            "Improve line change arm. Provide various ever order exist. Minute safe agree word. Space concern decision.\n",
            "========================================\n",
            "Case 5 - Rebecca Walters (Business): Negative Sentiment\n",
            "Drop herself truth rather play. Right eye air star.\n",
            "========================================\n",
            "Case 6 - Gabriel Henson (Business): Neutral Sentiment\n",
            "Father several off debate treatment. Store front certain challenge own west.\n",
            "========================================\n",
            "Case 7 - Angel Ellis (Business): Positive Sentiment\n",
            "Black live event guess attention statement money.\n",
            "========================================\n",
            "Case 8 - Erik Watson (Individual): Negative Sentiment\n",
            "Which want fill despite attorney box site. Fly difficult election agree foreign. Ok why cause.\n",
            "========================================\n",
            "Case 9 - Carlos Mahoney (Business): Positive Sentiment\n",
            "Human hair activity whose. Building purpose camera only opportunity where.\n",
            "========================================\n",
            "Case 10 - Amber White (Business): Negative Sentiment\n",
            "Seat series always they act almost station receive. Cultural table kitchen rock technology husband law.\n",
            "========================================\n"
          ]
        }
      ]
    },
    {
      "cell_type": "code",
      "source": [],
      "metadata": {
        "id": "TB0MK_7UpCaZ"
      },
      "execution_count": null,
      "outputs": []
    }
  ]
}